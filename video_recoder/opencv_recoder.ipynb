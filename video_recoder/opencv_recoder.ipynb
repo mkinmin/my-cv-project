{
 "cells": [
  {
   "cell_type": "code",
   "execution_count": 5,
   "metadata": {},
   "outputs": [],
   "source": [
    "import cv2 as cv"
   ]
  },
  {
   "cell_type": "code",
   "execution_count": 6,
   "metadata": {},
   "outputs": [],
   "source": [
    "# VideoCapture 객체 생성 (기본 카메라)\n",
    "cap = cv.VideoCapture(0)\n",
    "\n",
    "# 녹화 모드 여부를 확인하는 변수\n",
    "is_recording = False\n",
    "\n",
    "# VideoWriter 객체를 초기화할 변수\n",
    "out = None\n",
    "\n",
    "# 저장할 동영상 파일의 이름과 설정\n",
    "fourcc = cv.VideoWriter_fourcc(*'XVID')  # 코덱 설정\n",
    "fps = 20.0  # 초당 프레임 수\n",
    "frame_size = (int(cap.get(3)), int(cap.get(4)))  # 프레임 크기 (카메라 해상도)"
   ]
  },
  {
   "cell_type": "code",
   "execution_count": 7,
   "metadata": {},
   "outputs": [
    {
     "name": "stdout",
     "output_type": "stream",
     "text": [
      "카메라로부터 영상을 가져올 수 없습니다.\n"
     ]
    }
   ],
   "source": [
    "# 무한 루프 (카메라 피드 처리)\n",
    "while True:\n",
    "    ret, frame = cap.read()  # 카메라로부터 프레임을 읽기\n",
    "    if not ret:\n",
    "        print(\"카메라로부터 영상을 가져올 수 없습니다.\")\n",
    "        break\n",
    "\n",
    "    # 현재 모드에 따라 표시할 UI 결정\n",
    "    if is_recording:\n",
    "        # Recording 모드인 경우 빨간 원을 화면에 표시\n",
    "        cv.circle(frame, (50, 50), 20, (0, 0, 255), -1)\n",
    "\n",
    "        # VideoWriter 객체가 초기화되지 않았다면 초기화\n",
    "        if out is None:\n",
    "            out = cv.VideoWriter('output.avi', fourcc, fps, frame_size)\n",
    "\n",
    "        # 프레임을 저장\n",
    "        out.write(frame)\n",
    "\n",
    "    # 화면에 현재 프레임을 보여줌\n",
    "    cv.imshow('Camera', frame)\n",
    "\n",
    "    # 키 입력 대기 (1ms 동안)\n",
    "    key = cv.waitKey(1) & 0xFF\n",
    "\n",
    "    if key == 27:  # ESC 키를 누르면 종료\n",
    "        break\n",
    "    elif key == 32:  # 스페이스바를 누르면 모드 전환\n",
    "        is_recording = not is_recording\n",
    "        if is_recording:\n",
    "            print(\"녹화 시작\")\n",
    "        else:\n",
    "            print(\"녹화 중지\")"
   ]
  },
  {
   "cell_type": "code",
   "execution_count": null,
   "metadata": {},
   "outputs": [],
   "source": [
    "# 자원 해제 및 창 닫기\n",
    "cap.release()\n",
    "if out is not None:\n",
    "    out.release()\n",
    "cv.destroyAllWindows()"
   ]
  }
 ],
 "metadata": {
  "kernelspec": {
   "display_name": "Openai",
   "language": "python",
   "name": "python3"
  },
  "language_info": {
   "codemirror_mode": {
    "name": "ipython",
    "version": 3
   },
   "file_extension": ".py",
   "mimetype": "text/x-python",
   "name": "python",
   "nbconvert_exporter": "python",
   "pygments_lexer": "ipython3",
   "version": "3.9.19"
  }
 },
 "nbformat": 4,
 "nbformat_minor": 2
}
