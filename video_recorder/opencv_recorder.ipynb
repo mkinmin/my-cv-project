{
 "cells": [
  {
   "cell_type": "code",
   "execution_count": 13,
   "metadata": {},
   "outputs": [],
   "source": [
    "import cv2 as cv\n",
    "import numpy as np\n",
    "import os"
   ]
  },
  {
   "cell_type": "code",
   "execution_count": 19,
   "metadata": {},
   "outputs": [],
   "source": [
    "! pip freeze > requirements.txt"
   ]
  },
  {
   "cell_type": "code",
   "execution_count": 14,
   "metadata": {},
   "outputs": [],
   "source": [
    "# 카메라 선택 기능 추가\n",
    "def select_camera():\n",
    "    print(\"카메라 선택:\")\n",
    "    print(\"1: 로컬 카메라\")\n",
    "    print(\"2: IP 카메라 (RTSP)\")\n",
    "    choice = input(\"사용할 카메라를 선택하세요 : \")\n",
    "    if choice == '1':\n",
    "        return cv.VideoCapture(0)  # 로컬 카메라 선택\n",
    "    elif choice == '2':\n",
    "        rtsp_url = \"rtsp://210.99.70.120:1935/live/cctv001.stream\"  # IP 카메라 RTSP 주소\n",
    "        return cv.VideoCapture(rtsp_url)  # IP 카메라 선택\n",
    "    else:\n",
    "        print(\"잘못된 입력입니다. 기본적으로 로컬 카메라를 사용합니다.\")\n",
    "        return cv.VideoCapture(0)"
   ]
  },
  {
   "cell_type": "code",
   "execution_count": 15,
   "metadata": {},
   "outputs": [],
   "source": [
    "# 필터 적용 함수\n",
    "def apply_filter(frame, filter_type):\n",
    "    if filter_type == 1:  # 필터 없음\n",
    "        return frame\n",
    "    elif filter_type == 2:  # 그레이스케일 필터\n",
    "        return cv.cvtColor(frame, cv.COLOR_BGR2GRAY)\n",
    "    elif filter_type == 3:  # 가우시안 블러 필터\n",
    "        return cv.GaussianBlur(frame, (15, 15), 0)\n",
    "    elif filter_type == 4:  # 엣지 검출 필터\n",
    "        return cv.Canny(frame, 100, 200)\n",
    "    elif filter_type == 5:  # 세피아 필터\n",
    "        kernel = np.array([[0.272, 0.534, 0.131],\n",
    "                           [0.349, 0.686, 0.168],\n",
    "                           [0.393, 0.769, 0.189]])\n",
    "        return cv.transform(frame, kernel)\n",
    "    elif filter_type == 6:  # 좌우 반전 (거울 효과)\n",
    "        return cv.flip(frame, 1)\n",
    "    return frame"
   ]
  },
  {
   "cell_type": "code",
   "execution_count": 16,
   "metadata": {},
   "outputs": [
    {
     "name": "stdout",
     "output_type": "stream",
     "text": [
      "카메라 선택:\n",
      "1: 로컬 카메라\n",
      "2: IP 카메라 (RTSP)\n"
     ]
    }
   ],
   "source": [
    "# VideoCapture 객체 생성 (사용자 선택 카메라)\n",
    "cap = select_camera()\n",
    "\n",
    "# 녹화 모드 여부를 확인하는 변수\n",
    "is_recording = False\n",
    "\n",
    "# 적용 중인 필터 타입\n",
    "current_filter = 1  # 기본 필터 (1: 필터 없음)\n",
    "\n",
    "# VideoWriter 객체를 초기화할 변수\n",
    "out = None\n",
    "\n",
    "# 저장할 동영상 파일의 이름과 설정\n",
    "save_path = './videos/'  # 저장할 경로\n",
    "if not os.path.exists(save_path):\n",
    "    os.makedirs(save_path)  # 폴더가 없으면 생성\n",
    "\n",
    "filename = os.path.join(save_path, 'output.avi')  # 파일 이름\n",
    "fourcc = cv.VideoWriter_fourcc(*'XVID')  # 코덱 설정\n",
    "fps = 20.0  # 초당 프레임 수\n",
    "\n",
    "# 카메라 해상도 설정 (기본 값 사용)\n",
    "frame_size = (int(cap.get(3)), int(cap.get(4)))"
   ]
  },
  {
   "cell_type": "code",
   "execution_count": 17,
   "metadata": {},
   "outputs": [
    {
     "name": "stdout",
     "output_type": "stream",
     "text": [
      "녹화 시작\n",
      "필터 1 적용\n",
      "필터 2 적용\n",
      "필터 3 적용\n",
      "필터 4 적용\n",
      "필터 5 적용\n",
      "필터 6 적용\n",
      "필터 1 적용\n",
      "녹화 중지\n"
     ]
    }
   ],
   "source": [
    "# 무한 루프 (카메라 피드 처리)\n",
    "while True:\n",
    "    ret, frame = cap.read()  # 카메라로부터 프레임을 읽기\n",
    "    if not ret:\n",
    "        print(\"카메라로부터 영상을 가져올 수 없습니다.\")\n",
    "        break\n",
    "\n",
    "    # 녹화를 위한 원본 프레임을 복사하여 저장용으로 사용\n",
    "    frame_to_save = frame.copy()\n",
    "\n",
    "    # 선택된 필터를 프레임에 적용\n",
    "    filtered_frame = apply_filter(frame, current_filter)\n",
    "\n",
    "    # 현재 모드에 따라 표시할 UI 결정\n",
    "    if is_recording:\n",
    "        # Recording 모드인 경우 빨간 원을 화면에 표시\n",
    "        cv.circle(filtered_frame, (50, 50), 8, (0, 0, 255), -1)\n",
    "\n",
    "        # VideoWriter 객체가 초기화되지 않았다면 초기화\n",
    "        if out is None:\n",
    "            out = cv.VideoWriter(filename, fourcc, fps, frame_size)\n",
    "\n",
    "        # 복사한 프레임을 저장 (필터가 적용되지 않은 프레임)\n",
    "        out.write(frame_to_save)\n",
    "\n",
    "    # 화면에 현재 프레임을 보여줌 (필터가 적용된 프레임)\n",
    "    cv.imshow('Camera', filtered_frame)\n",
    "\n",
    "    # 키 입력 대기 (1ms 동안)\n",
    "    key = cv.waitKey(1) & 0xFF\n",
    "\n",
    "    if key == 27:  # ESC 키를 누르면 종료\n",
    "        break\n",
    "    elif key == 32:  # 스페이스바를 누르면 모드 전환\n",
    "        is_recording = not is_recording\n",
    "        if is_recording:\n",
    "            print(\"녹화 시작\")\n",
    "        else:\n",
    "            print(\"녹화 중지\")\n",
    "    elif key >= ord('1') and key <= ord('6'):  # 숫자 키 1~6을 눌러 필터 변경\n",
    "        current_filter = key - ord('0')  # 현재 필터 값 설정\n",
    "        print(f\"필터 {current_filter} 적용\")"
   ]
  },
  {
   "cell_type": "code",
   "execution_count": 18,
   "metadata": {},
   "outputs": [
    {
     "name": "stdout",
     "output_type": "stream",
     "text": [
      "녹화된 영상은 ./videos/output.avi에 저장되었습니다.\n"
     ]
    }
   ],
   "source": [
    "# 자원 해제 및 창 닫기\n",
    "cap.release()\n",
    "if out is not None:\n",
    "    out.release()\n",
    "cv.destroyAllWindows()\n",
    "\n",
    "print(f\"녹화된 영상은 {filename}에 저장되었습니다.\")"
   ]
  }
 ],
 "metadata": {
  "kernelspec": {
   "display_name": "Openai",
   "language": "python",
   "name": "python3"
  },
  "language_info": {
   "codemirror_mode": {
    "name": "ipython",
    "version": 3
   },
   "file_extension": ".py",
   "mimetype": "text/x-python",
   "name": "python",
   "nbconvert_exporter": "python",
   "pygments_lexer": "ipython3",
   "version": "3.9.19"
  }
 },
 "nbformat": 4,
 "nbformat_minor": 2
}
