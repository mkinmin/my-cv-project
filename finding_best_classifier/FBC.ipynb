{
 "cells": [
  {
   "cell_type": "code",
   "execution_count": 38,
   "metadata": {},
   "outputs": [
    {
     "name": "stdout",
     "output_type": "stream",
     "text": [
      "* Accuracy @ training data: 1.000\n",
      "* Accuracy @ test data: 0.960\n",
      "* Your score: 16\n"
     ]
    }
   ],
   "source": [
    "import numpy as np\n",
    "from sklearn import (datasets, tree, model_selection)\n",
    "from sklearn.ensemble import RandomForestClassifier\n",
    "\n",
    "\n",
    "if __name__ == '__main__':\n",
    "    wdbc = datasets.load_breast_cancer()\n",
    "\n",
    "    # Handling class imbalance with class_weight\n",
    "    model = RandomForestClassifier(n_estimators=100, class_weight='balanced', random_state=42)\n",
    "    cv_results = model_selection.cross_validate(model, wdbc.data, wdbc.target, cv=5, return_train_score=True)\n",
    "\n",
    "    # Extract train and test scores\n",
    "    train_scores = cv_results['train_score']\n",
    "    test_scores = cv_results['test_score']\n",
    "\n",
    "    acc_train = np.mean(cv_results['train_score'])\n",
    "    acc_test = np.mean(cv_results['test_score'])\n",
    "\n",
    "    print(f'* Accuracy @ training data: {acc_train:.3f}')\n",
    "    print(f'* Accuracy @ test data: {acc_test:.3f}')\n",
    "    print(f'* Your score: {max(10 + 100 * (acc_test - 0.9), 0):.0f}')"
   ]
  }
 ],
 "metadata": {
  "kernelspec": {
   "display_name": "Openai",
   "language": "python",
   "name": "python3"
  },
  "language_info": {
   "codemirror_mode": {
    "name": "ipython",
    "version": 3
   },
   "file_extension": ".py",
   "mimetype": "text/x-python",
   "name": "python",
   "nbconvert_exporter": "python",
   "pygments_lexer": "ipython3",
   "version": "3.9.19"
  }
 },
 "nbformat": 4,
 "nbformat_minor": 2
}
